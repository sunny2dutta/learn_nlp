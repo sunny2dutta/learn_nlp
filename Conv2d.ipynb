{
 "cells": [
  {
   "cell_type": "code",
   "execution_count": 1,
   "id": "ff41c2d9",
   "metadata": {},
   "outputs": [],
   "source": [
    "%matplotlib inline\n",
    "# load and show an image with Pillow\n",
    "from PIL import Image\n",
    "# load the image\n",
    "from IPython.display import display # to display images\n",
    "from matplotlib import pyplot as plt # to display images\n",
    "from matplotlib.pyplot import figure\n",
    "import numpy as np\n"
   ]
  },
  {
   "cell_type": "code",
   "execution_count": 2,
   "id": "1d45724c",
   "metadata": {},
   "outputs": [
    {
     "data": {
      "text/plain": [
       "'x1'"
      ]
     },
     "metadata": {},
     "output_type": "display_data"
    },
    {
     "data": {
      "text/plain": [
       "array([[1, 2],\n",
       "       [3, 4]])"
      ]
     },
     "metadata": {},
     "output_type": "display_data"
    },
    {
     "data": {
      "text/plain": [
       "'x2'"
      ]
     },
     "metadata": {},
     "output_type": "display_data"
    },
    {
     "data": {
      "text/plain": [
       "array([[5, 6],\n",
       "       [7, 8]])"
      ]
     },
     "metadata": {},
     "output_type": "display_data"
    },
    {
     "name": "stdout",
     "output_type": "stream",
     "text": [
      "Matrix Multiplication (np.matmul) result:\n",
      " [[19 22]\n",
      " [43 50]]\n",
      "Element-Wise Matrix Multiplication (np.multiply) result:\n",
      " [[ 5 12]\n",
      " [21 32]]\n"
     ]
    }
   ],
   "source": [
    "x1 = np.arange(1,5).reshape((2, 2))\n",
    "x2 = np.arange(5,9).reshape((2, 2))\n",
    "display('x1',x1)\n",
    "display('x2',x2)\n",
    "#Matrix Multiplication\n",
    "print('Matrix Multiplication (np.matmul) result:\\n',np.matmul(x1, x2))\n",
    "\n",
    "#Element-Wise Matrix Multiplication\n",
    "print('Element-Wise Matrix Multiplication (np.multiply) result:\\n',np.multiply(x1, x2))\n",
    "\n"
   ]
  },
  {
   "cell_type": "code",
   "execution_count": 3,
   "id": "82ad172c",
   "metadata": {},
   "outputs": [
    {
     "name": "stdout",
     "output_type": "stream",
     "text": [
      "Original Matrix\n",
      " [[1 2]\n",
      " [3 4]]\n",
      "Padded Matrix\n",
      " [[0. 0. 0. 0.]\n",
      " [0. 1. 2. 0.]\n",
      " [0. 3. 4. 0.]\n",
      " [0. 0. 0. 0.]]\n"
     ]
    }
   ],
   "source": [
    "#@title Reminder2: Padding with Zero \n",
    "print('Original Matrix\\n',x1)\n",
    "padded = np.zeros(shape=(x1.shape[0]+2,x1.shape[0]+2))\n",
    "padded[1:3,1:3]=x1\n",
    "print('Padded Matrix\\n',padded)\n"
   ]
  },
  {
   "cell_type": "code",
   "execution_count": null,
   "id": "87fb1753",
   "metadata": {},
   "outputs": [],
   "source": [
    "#@title Load Image\n",
    "fileName = \"mix8.png\" #@param {type:\"string\"}\n",
    "image = Image.open(fileName)\n",
    "# summarize some details about the image\n",
    "print('image.format: ', image.format)\n",
    "print('image mode: ', image.mode)\n",
    "print('Image size: ',image.size)\n",
    "imageMatrix=np.array(image)\n",
    "print('Image shape:', imageMatrix.shape)\n",
    "# show the image\n",
    "display(image)\n"
   ]
  },
  {
   "cell_type": "code",
   "execution_count": null,
   "id": "efe1f87f",
   "metadata": {},
   "outputs": [],
   "source": []
  }
 ],
 "metadata": {
  "kernelspec": {
   "display_name": "Python 3 (ipykernel)",
   "language": "python",
   "name": "python3"
  },
  "language_info": {
   "codemirror_mode": {
    "name": "ipython",
    "version": 3
   },
   "file_extension": ".py",
   "mimetype": "text/x-python",
   "name": "python",
   "nbconvert_exporter": "python",
   "pygments_lexer": "ipython3",
   "version": "3.9.5"
  }
 },
 "nbformat": 4,
 "nbformat_minor": 5
}
